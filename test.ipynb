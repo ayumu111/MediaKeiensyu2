{
  "cells": [
    {
      "cell_type": "markdown",
      "id": "d02264cc",
      "metadata": {
        "id": "d02264cc"
      },
      "source": [
        "# アユムのファイル"
      ]
    },
    {
      "cell_type": "code",
      "execution_count": 4,
      "id": "b657e725",
      "metadata": {
        "id": "b657e725",
        "outputId": "94b17e0a-ad2e-4d78-ad6a-d5df1c41de23",
        "colab": {
          "base_uri": "https://localhost:8080/"
        }
      },
      "outputs": [
        {
          "output_type": "stream",
          "name": "stdout",
          "text": [
            "\u001b[KDownloading http://images.cocodataset.org/zips/train2017.zip to '/content/datasets/coco-pose/images/train2017.zip': 89% ━━━━━━━━━━╸─ 16.0/18.0GB 55.2MB/s 5:41<36.9sRequirement already satisfied: ultralytics in /usr/local/lib/python3.12/dist-packages (8.3.216)\n",
            "Requirement already satisfied: numpy>=1.23.0 in /usr/local/lib/python3.12/dist-packages (from ultralytics) (2.0.2)\n",
            "Requirement already satisfied: matplotlib>=3.3.0 in /usr/local/lib/python3.12/dist-packages (from ultralytics) (3.10.0)\n",
            "Requirement already satisfied: opencv-python>=4.6.0 in /usr/local/lib/python3.12/dist-packages (from ultralytics) (4.12.0.88)\n",
            "Requirement already satisfied: pillow>=7.1.2 in /usr/local/lib/python3.12/dist-packages (from ultralytics) (11.3.0)\n",
            "Requirement already satisfied: pyyaml>=5.3.1 in /usr/local/lib/python3.12/dist-packages (from ultralytics) (6.0.3)\n",
            "Requirement already satisfied: requests>=2.23.0 in /usr/local/lib/python3.12/dist-packages (from ultralytics) (2.32.4)\n",
            "Requirement already satisfied: scipy>=1.4.1 in /usr/local/lib/python3.12/dist-packages (from ultralytics) (1.16.2)\n",
            "Requirement already satisfied: torch>=1.8.0 in /usr/local/lib/python3.12/dist-packages (from ultralytics) (2.8.0+cu126)\n",
            "Requirement already satisfied: torchvision>=0.9.0 in /usr/local/lib/python3.12/dist-packages (from ultralytics) (0.23.0+cu126)\n",
            "Requirement already satisfied: psutil in /usr/local/lib/python3.12/dist-packages (from ultralytics) (5.9.5)\n",
            "Requirement already satisfied: polars in /usr/local/lib/python3.12/dist-packages (from ultralytics) (1.25.2)\n",
            "Requirement already satisfied: ultralytics-thop>=2.0.0 in /usr/local/lib/python3.12/dist-packages (from ultralytics) (2.0.17)\n",
            "Requirement already satisfied: contourpy>=1.0.1 in /usr/local/lib/python3.12/dist-packages (from matplotlib>=3.3.0->ultralytics) (1.3.3)\n",
            "Requirement already satisfied: cycler>=0.10 in /usr/local/lib/python3.12/dist-packages (from matplotlib>=3.3.0->ultralytics) (0.12.1)\n",
            "Requirement already satisfied: fonttools>=4.22.0 in /usr/local/lib/python3.12/dist-packages (from matplotlib>=3.3.0->ultralytics) (4.60.1)\n",
            "Requirement already satisfied: kiwisolver>=1.3.1 in /usr/local/lib/python3.12/dist-packages (from matplotlib>=3.3.0->ultralytics) (1.4.9)\n",
            "Requirement already satisfied: packaging>=20.0 in /usr/local/lib/python3.12/dist-packages (from matplotlib>=3.3.0->ultralytics) (25.0)\n",
            "Requirement already satisfied: pyparsing>=2.3.1 in /usr/local/lib/python3.12/dist-packages (from matplotlib>=3.3.0->ultralytics) (3.2.5)\n",
            "Requirement already satisfied: python-dateutil>=2.7 in /usr/local/lib/python3.12/dist-packages (from matplotlib>=3.3.0->ultralytics) (2.9.0.post0)\n",
            "Requirement already satisfied: charset_normalizer<4,>=2 in /usr/local/lib/python3.12/dist-packages (from requests>=2.23.0->ultralytics) (3.4.3)\n",
            "Requirement already satisfied: idna<4,>=2.5 in /usr/local/lib/python3.12/dist-packages (from requests>=2.23.0->ultralytics) (3.10)\n",
            "Requirement already satisfied: urllib3<3,>=1.21.1 in /usr/local/lib/python3.12/dist-packages (from requests>=2.23.0->ultralytics) (2.5.0)\n",
            "Requirement already satisfied: certifi>=2017.4.17 in /usr/local/lib/python3.12/dist-packages (from requests>=2.23.0->ultralytics) (2025.10.5)\n",
            "Requirement already satisfied: filelock in /usr/local/lib/python3.12/dist-packages (from torch>=1.8.0->ultralytics) (3.20.0)\n",
            "Requirement already satisfied: typing-extensions>=4.10.0 in /usr/local/lib/python3.12/dist-packages (from torch>=1.8.0->ultralytics) (4.15.0)\n",
            "Requirement already satisfied: setuptools in /usr/local/lib/python3.12/dist-packages (from torch>=1.8.0->ultralytics) (75.2.0)\n",
            "Requirement already satisfied: sympy>=1.13.3 in /usr/local/lib/python3.12/dist-packages (from torch>=1.8.0->ultralytics) (1.13.3)\n",
            "Requirement already satisfied: networkx in /usr/local/lib/python3.12/dist-packages (from torch>=1.8.0->ultralytics) (3.5)\n",
            "Requirement already satisfied: jinja2 in /usr/local/lib/python3.12/dist-packages (from torch>=1.8.0->ultralytics) (3.1.6)\n",
            "Requirement already satisfied: fsspec in /usr/local/lib/python3.12/dist-packages (from torch>=1.8.0->ultralytics) (2025.3.0)\n",
            "Requirement already satisfied: nvidia-cuda-nvrtc-cu12==12.6.77 in /usr/local/lib/python3.12/dist-packages (from torch>=1.8.0->ultralytics) (12.6.77)\n",
            "Requirement already satisfied: nvidia-cuda-runtime-cu12==12.6.77 in /usr/local/lib/python3.12/dist-packages (from torch>=1.8.0->ultralytics) (12.6.77)\n",
            "Requirement already satisfied: nvidia-cuda-cupti-cu12==12.6.80 in /usr/local/lib/python3.12/dist-packages (from torch>=1.8.0->ultralytics) (12.6.80)\n",
            "Requirement already satisfied: nvidia-cudnn-cu12==9.10.2.21 in /usr/local/lib/python3.12/dist-packages (from torch>=1.8.0->ultralytics) (9.10.2.21)\n",
            "Requirement already satisfied: nvidia-cublas-cu12==12.6.4.1 in /usr/local/lib/python3.12/dist-packages (from torch>=1.8.0->ultralytics) (12.6.4.1)\n",
            "Requirement already satisfied: nvidia-cufft-cu12==11.3.0.4 in /usr/local/lib/python3.12/dist-packages (from torch>=1.8.0->ultralytics) (11.3.0.4)\n",
            "Requirement already satisfied: nvidia-curand-cu12==10.3.7.77 in /usr/local/lib/python3.12/dist-packages (from torch>=1.8.0->ultralytics) (10.3.7.77)\n",
            "Requirement already satisfied: nvidia-cusolver-cu12==11.7.1.2 in /usr/local/lib/python3.12/dist-packages (from torch>=1.8.0->ultralytics) (11.7.1.2)\n",
            "Requirement already satisfied: nvidia-cusparse-cu12==12.5.4.2 in /usr/local/lib/python3.12/dist-packages (from torch>=1.8.0->ultralytics) (12.5.4.2)\n",
            "Requirement already satisfied: nvidia-cusparselt-cu12==0.7.1 in /usr/local/lib/python3.12/dist-packages (from torch>=1.8.0->ultralytics) (0.7.1)\n",
            "Requirement already satisfied: nvidia-nccl-cu12==2.27.3 in /usr/local/lib/python3.12/dist-packages (from torch>=1.8.0->ultralytics) (2.27.3)\n",
            "Requirement already satisfied: nvidia-nvtx-cu12==12.6.77 in /usr/local/lib/python3.12/dist-packages (from torch>=1.8.0->ultralytics) (12.6.77)\n",
            "Requirement already satisfied: nvidia-nvjitlink-cu12==12.6.85 in /usr/local/lib/python3.12/dist-packages (from torch>=1.8.0->ultralytics) (12.6.85)\n",
            "Requirement already satisfied: nvidia-cufile-cu12==1.11.1.6 in /usr/local/lib/python3.12/dist-packages (from torch>=1.8.0->ultralytics) (1.11.1.6)\n",
            "Requirement already satisfied: triton==3.4.0 in /usr/local/lib/python3.12/dist-packages (from torch>=1.8.0->ultralytics) (3.4.0)\n",
            "\u001b[KDownloading http://images.cocodataset.org/zips/train2017.zip to '/content/datasets/coco-pose/images/train2017.zip': 89% ━━━━━━━━━━╸─ 16.0/18.0GB 61.8MB/s 5:41<32.8sRequirement already satisfied: six>=1.5 in /usr/local/lib/python3.12/dist-packages (from python-dateutil>=2.7->matplotlib>=3.3.0->ultralytics) (1.17.0)\n",
            "Requirement already satisfied: mpmath<1.4,>=1.1.0 in /usr/local/lib/python3.12/dist-packages (from sympy>=1.13.3->torch>=1.8.0->ultralytics) (1.3.0)\n",
            "\u001b[KDownloading http://images.cocodataset.org/zips/train2017.zip to '/content/datasets/coco-pose/images/train2017.zip': 89% ━━━━━━━━━━╸─ 16.0/18.0GB 55.9MB/s 5:41<36.1sRequirement already satisfied: MarkupSafe>=2.0 in /usr/local/lib/python3.12/dist-packages (from jinja2->torch>=1.8.0->ultralytics) (3.0.3)\n",
            "\u001b[KDownloading http://images.cocodataset.org/zips/train2017.zip to '/content/datasets/coco-pose/images/train2017.zip': 90% ━━━━━━━━━━╸─ 16.3/18.0GB 56.4MB/s 5:45<31.5s"
          ]
        }
      ],
      "source": [
        "!pip install ultralytics"
      ]
    },
    {
      "cell_type": "code",
      "execution_count": 5,
      "id": "bde9d8e1",
      "metadata": {
        "id": "bde9d8e1",
        "outputId": "74e4a278-f1b6-4a48-9b87-8bb83c9e3d6f",
        "colab": {
          "base_uri": "https://localhost:8080/"
        }
      },
      "outputs": [
        {
          "output_type": "stream",
          "name": "stdout",
          "text": [
            "\u001b[KDownloading http://images.cocodataset.org/zips/train2017.zip to '/content/datasets/coco-pose/images/train2017.zip': 91% ━━━━━━━━━━╸─ 16.4/18.0GB 49.9MB/s 5:48<32.3s\n",
            "\u001b[KDownloading http://images.cocodataset.org/zips/train2017.zip to '/content/datasets/coco-pose/images/train2017.zip': 91% ━━━━━━━━━━╸─ 16.4/18.0GB 55.8MB/s 5:48<28.8simage 1/1 /2011tokyo_mister_fp-011-320x480.jpg: 640x448 1 person, 52.4ms\n",
            "Speed: 8.3ms preprocess, 52.4ms inference, 7.3ms postprocess per image at shape (1, 3, 640, 448)\n",
            "Saved annotated image: runs/pose_infer/annotated_0.jpg\n",
            "Frame 0 keypoints / mask info: <class 'ultralytics.engine.results.Keypoints'> torch.Size([1, 17, 3])\n"
          ]
        }
      ],
      "source": [
        "import numpy as np\n",
        "from ultralytics import YOLO\n",
        "import cv2\n",
        "import os\n",
        "\n",
        "# Load a model (既に読み込んでいる場合は重複しないよう調整してください)\n",
        "model = YOLO(\"yolo11n-pose.pt\")\n",
        "\n",
        "# --- 推論用設定 ---\n",
        "# 入力例: 画像ファイル, 動画ファイル, フォルダ (\"images/\"), またはカメラ(0)\n",
        "source = \"/2011tokyo_mister_fp-011-320x480.jpg\"    # ここを使いたい入力に変更\n",
        "imgsz = 640\n",
        "conf = 0.25\n",
        "save_dir = \"runs/pose_infer\"   # 保存先ディレクトリ\n",
        "\n",
        "os.makedirs(save_dir, exist_ok=True)\n",
        "\n",
        "# 推論実行\n",
        "results = model.predict(source=source, imgsz=imgsz, conf=conf)\n",
        "\n",
        "# results は iterable。複数フレーム/画像に対して処理する。\n",
        "for i, r in enumerate(results):\n",
        "    # 可視化画像を取得して保存 (r.plot() はRGB画像を返す)\n",
        "    try:\n",
        "        annotated = r.plot()  # numpy array (RGB)\n",
        "        out_path = os.path.join(save_dir, f\"annotated_{i}.jpg\")\n",
        "        # OpenCV はBGRで扱うため変換して保存\n",
        "        cv2.imwrite(out_path, cv2.cvtColor(annotated, cv2.COLOR_RGB2BGR))\n",
        "        print(f\"Saved annotated image: {out_path}\")\n",
        "    except Exception as e:\n",
        "        print(\"Could not plot/save annotated image:\", e)\n",
        "\n",
        "    # キーポイントがあれば取り出して表示 (モデルの出力形式に依存するため安全にアクセス)\n",
        "    try:\n",
        "        # ultralytics のバージョンにより属性名が異なることがあるので安全に取得\n",
        "        if hasattr(r, \"keypoints\") and r.keypoints is not None:\n",
        "            kps = r.keypoints\n",
        "        elif hasattr(r, \"masks\") and r.masks is not None:\n",
        "            kps = r.masks\n",
        "        else:\n",
        "            kps = None\n",
        "\n",
        "        if kps is not None:\n",
        "            # kps を表示しやすい形に変換して出力\n",
        "            try:\n",
        "                arr = np.array(kps)  # 多くの場合 numpy に変換可能\n",
        "            except Exception:\n",
        "                arr = kps\n",
        "            print(f\"Frame {i} keypoints / mask info:\", type(arr), getattr(arr, \"shape\", None))\n",
        "            # 必要ならここで arr を解析して各姿勢のキーポイント座標を処理\n",
        "        else:\n",
        "            print(f\"Frame {i}: no keypoints found in result\")\n",
        "    except Exception as e:\n",
        "        print(\"Error while extracting keypoints:\", e)\n",
        "# ...existing code..."
      ]
    }
  ],
  "metadata": {
    "kernelspec": {
      "display_name": "Python 3",
      "name": "python3"
    },
    "language_info": {
      "codemirror_mode": {
        "name": "ipython",
        "version": 3
      },
      "file_extension": ".py",
      "mimetype": "text/x-python",
      "name": "python",
      "nbconvert_exporter": "python",
      "pygments_lexer": "ipython3",
      "version": "3.11.5"
    },
    "colab": {
      "provenance": [],
      "gpuType": "T4"
    },
    "accelerator": "GPU"
  },
  "nbformat": 4,
  "nbformat_minor": 5
}