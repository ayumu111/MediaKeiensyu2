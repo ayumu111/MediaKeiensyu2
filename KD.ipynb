{
 "cells": [
  {
   "cell_type": "markdown",
   "id": "d8afda69",
   "metadata": {},
   "source": [
    "# 川島だよ"
   ]
  },
  {
   "cell_type": "code",
   "execution_count": null,
   "id": "35147228",
   "metadata": {
    "vscode": {
     "languageId": "plaintext"
    }
   },
   "outputs": [],
   "source": []
  }
 ],
 "metadata": {
  "language_info": {
   "name": "python"
  }
 },
 "nbformat": 4,
 "nbformat_minor": 5
}
