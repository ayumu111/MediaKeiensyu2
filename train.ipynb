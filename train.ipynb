{
 "cells": [
  {
   "cell_type": "markdown",
   "id": "998f4e09",
   "metadata": {},
   "source": [
    "## 仮のやつ"
   ]
  }
 ],
 "metadata": {
  "language_info": {
   "name": "python"
  }
 },
 "nbformat": 4,
 "nbformat_minor": 5
}
