{
  "cells": [
    {
      "cell_type": "markdown",
      "id": "998f4e09",
      "metadata": {
        "id": "998f4e09"
      },
      "source": [
        "## 仮のやつ"
      ]
    },
    {
      "cell_type": "code",
      "execution_count": null,
      "id": "LWnJy3ITffoV",
      "metadata": {
        "id": "LWnJy3ITffoV"
      },
      "outputs": [],
      "source": [
        "import numpy as np"
      ]
    },
    {
      "cell_type": "code",
      "execution_count": null,
      "id": "mvLCV7ubfyAK",
      "metadata": {
        "id": "mvLCV7ubfyAK"
      },
      "outputs": [],
      "source": [
        "a = 200"
      ]
    }
  ],
  "metadata": {
    "colab": {
      "provenance": []
    },
    "kernelspec": {
      "display_name": "Python 3",
      "name": "python3"
    },
    "language_info": {
      "name": "python"
    }
  },
  "nbformat": 4,
  "nbformat_minor": 5
}
