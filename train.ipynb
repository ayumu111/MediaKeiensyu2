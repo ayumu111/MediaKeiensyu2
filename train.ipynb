{
  "cells": [
    {
      "cell_type": "markdown",
      "id": "998f4e09",
      "metadata": {
        "id": "998f4e09"
      },
      "source": [
        "## 仮のやつ"
      ]
    },
    {
      "cell_type": "code",
      "execution_count": null,
      "id": "LWnJy3ITffoV",
      "metadata": {
        "id": "LWnJy3ITffoV"
      },
      "outputs": [],
      "source": [
        "import numpy as np"
      ]
    },
    {
      "cell_type": "code",
      "execution_count": null,
      "id": "mvLCV7ubfyAK",
      "source": [
        "a = 200\n",
        "b = a +1"
      ],
      "metadata": {
        "id": "mvLCV7ubfyAK"
      },
      "outputs": [],
      "source": [
        "a = 200"
      ]
    },
    {
      "cell_type": "code",
      "execution_count": null,
      "id": "LiewkcgYfzdl",
      "metadata": {
        "id": "LiewkcgYfzdl"
      },
      "outputs": [],
      "source": []
    }
  ],
  "metadata": {
    "colab": {
      "provenance": []
    },
    "kernelspec": {
      "display_name": "Python 3",
      "name": "python3"
    },
    "language_info": {
      "name": "python"
    }
  },
  "nbformat": 4,
  "nbformat_minor": 5
}
