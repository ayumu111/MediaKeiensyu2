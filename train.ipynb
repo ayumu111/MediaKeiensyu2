{
  "cells": [
    {
      "cell_type": "markdown",
      "id": "998f4e09",
      "metadata": {
        "id": "998f4e09"
      },
      "source": [
        "## 仮のやつ"
      ]
    },
    {
      "cell_type": "code",
      "execution_count": 5,
      "id": "LWnJy3ITffoV",
      "metadata": {
        "id": "LWnJy3ITffoV"
      },
      "outputs": [],
      "source": [
        "import numpy as np"
      ]
    },
    {
      "cell_type": "code",
      "execution_count": 6,
      "id": "mvLCV7ubfyAK",
      "metadata": {
        "id": "mvLCV7ubfyAK"
      },
      "outputs": [
        {
          "name": "stdout",
          "output_type": "stream",
          "text": [
            "the price of Kawashima is 200 yen\n"
          ]
        }
      ],
      "source": [
        "a = 200\n",
        "d = 2\n",
        "c = 4\n",
        "e = 3\n",
        "f = 4"
      ]
    },
    {
      "cell_type": "code",
      "execution_count": null,
      "id": "LiewkcgYfzdl",
      "metadata": {
        "id": "LiewkcgYfzdl"
      },
      "outputs": [],
      "source": [
        "#美月が編集した"
      ]

    }
  ],
  "metadata": {
    "colab": {
      "provenance": []
    },
    "kernelspec": {
      "display_name": "3.8.10",
      "language": "python",
      "name": "python3"
    },
    "language_info": {
      "codemirror_mode": {
        "name": "ipython",
        "version": 3
      },
      "file_extension": ".py",
      "mimetype": "text/x-python",
      "name": "python",
      "nbconvert_exporter": "python",
      "pygments_lexer": "ipython3",
      "version": "3.8.10"
    }
  },
  "nbformat": 4,
  "nbformat_minor": 5
}
