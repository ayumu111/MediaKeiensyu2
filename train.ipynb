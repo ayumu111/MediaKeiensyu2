{
  "cells": [
    {
      "cell_type": "markdown",
      "id": "998f4e09",
      "metadata": {
        "id": "998f4e09"
      },
      "source": [
        "## 仮のやつ"
      ]
    },
    {
      "cell_type": "code",
      "source": [
        "import numpy as np"
      ],
      "metadata": {
        "id": "LWnJy3ITffoV"
      },
      "id": "LWnJy3ITffoV",
      "execution_count": null,
      "outputs": []
    },
    {
      "cell_type": "code",
      "source": [
        "a = 200\n",
        "b = 300\n",
        "print(f\"the price of Kawashima is {a + b} yen\");"
      ],
      "metadata": {
        "id": "mvLCV7ubfyAK",
        "outputId": "a19538c4-192c-41be-904e-d7ab18f43254",
        "colab": {
          "base_uri": "https://localhost:8080/"
        }
      },
      "id": "mvLCV7ubfyAK",
      "execution_count": 5,
      "outputs": [
        {
          "output_type": "stream",
          "name": "stdout",
          "text": [
            "the price of Kawashima is 500 yen\n"
          ]
        }
      ]
    },
    {
      "cell_type": "code",
      "source": [],
      "metadata": {
        "id": "LiewkcgYfzdl"
      },
      "id": "LiewkcgYfzdl",
      "execution_count": null,
      "outputs": []
    }
  ],
  "metadata": {
    "language_info": {
      "name": "python"
    },
    "colab": {
      "provenance": []
    },
    "kernelspec": {
      "name": "python3",
      "display_name": "Python 3"
    }
  },
  "nbformat": 4,
  "nbformat_minor": 5
}