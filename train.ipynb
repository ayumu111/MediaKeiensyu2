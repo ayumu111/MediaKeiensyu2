{
  "cells": [
    {
      "cell_type": "markdown",
      "id": "998f4e09",
      "metadata": {
        "id": "998f4e09"
      },
      "source": [
        "## 仮のやつ"
      ]
    },
    {
      "cell_type": "code",
      "source": [
        "import numpy as np"
      ],
      "metadata": {
        "id": "LWnJy3ITffoV"
      },
      "id": "LWnJy3ITffoV",
      "execution_count": null,
      "outputs": []
    }
  ],
  "metadata": {
    "language_info": {
      "name": "python"
    },
    "colab": {
      "provenance": []
    }
  },
  "nbformat": 4,
  "nbformat_minor": 5
}