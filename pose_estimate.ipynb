{
 "cells": [
  {
   "cell_type": "code",
   "execution_count": 1,
   "id": "28fda636",
   "metadata": {},
   "outputs": [
    {
     "name": "stdout",
     "output_type": "stream",
     "text": [
      "Requirement already satisfied: torch in c:\\users\\agugu\\appdata\\local\\programs\\python\\python311\\lib\\site-packages (2.7.1)\n",
      "Requirement already satisfied: torchvision in c:\\users\\agugu\\appdata\\local\\programs\\python\\python311\\lib\\site-packages (0.22.1)\n",
      "Requirement already satisfied: matplotlib in c:\\users\\agugu\\appdata\\local\\programs\\python\\python311\\lib\\site-packages (3.9.2)\n",
      "Requirement already satisfied: pillow in c:\\users\\agugu\\appdata\\local\\programs\\python\\python311\\lib\\site-packages (10.4.0)\n",
      "Requirement already satisfied: deeplake in c:\\users\\agugu\\appdata\\local\\programs\\python\\python311\\lib\\site-packages (3.9.52)\n",
      "Requirement already satisfied: ultralytics in c:\\users\\agugu\\appdata\\local\\programs\\python\\python311\\lib\\site-packages (8.3.216)\n",
      "Requirement already satisfied: filelock in c:\\users\\agugu\\appdata\\local\\programs\\python\\python311\\lib\\site-packages (from torch) (3.18.0)\n",
      "Requirement already satisfied: typing-extensions>=4.10.0 in c:\\users\\agugu\\appdata\\local\\programs\\python\\python311\\lib\\site-packages (from torch) (4.15.0)\n",
      "Requirement already satisfied: sympy>=1.13.3 in c:\\users\\agugu\\appdata\\local\\programs\\python\\python311\\lib\\site-packages (from torch) (1.14.0)\n",
      "Requirement already satisfied: networkx in c:\\users\\agugu\\appdata\\local\\programs\\python\\python311\\lib\\site-packages (from torch) (3.5)\n",
      "Requirement already satisfied: jinja2 in c:\\users\\agugu\\appdata\\local\\programs\\python\\python311\\lib\\site-packages (from torch) (3.1.6)\n",
      "Requirement already satisfied: fsspec in c:\\users\\agugu\\appdata\\local\\programs\\python\\python311\\lib\\site-packages (from torch) (2025.5.1)\n",
      "Requirement already satisfied: numpy in c:\\users\\agugu\\appdata\\local\\programs\\python\\python311\\lib\\site-packages (from torchvision) (1.26.4)\n",
      "Requirement already satisfied: contourpy>=1.0.1 in c:\\users\\agugu\\appdata\\local\\programs\\python\\python311\\lib\\site-packages (from matplotlib) (1.3.0)\n",
      "Requirement already satisfied: cycler>=0.10 in c:\\users\\agugu\\appdata\\local\\programs\\python\\python311\\lib\\site-packages (from matplotlib) (0.12.1)\n",
      "Requirement already satisfied: fonttools>=4.22.0 in c:\\users\\agugu\\appdata\\local\\programs\\python\\python311\\lib\\site-packages (from matplotlib) (4.54.1)\n",
      "Requirement already satisfied: kiwisolver>=1.3.1 in c:\\users\\agugu\\appdata\\local\\programs\\python\\python311\\lib\\site-packages (from matplotlib) (1.4.7)\n",
      "Requirement already satisfied: packaging>=20.0 in c:\\users\\agugu\\appdata\\roaming\\python\\python311\\site-packages (from matplotlib) (24.1)\n",
      "Requirement already satisfied: pyparsing>=2.3.1 in c:\\users\\agugu\\appdata\\local\\programs\\python\\python311\\lib\\site-packages (from matplotlib) (3.1.4)\n",
      "Requirement already satisfied: python-dateutil>=2.7 in c:\\users\\agugu\\appdata\\roaming\\python\\python311\\site-packages (from matplotlib) (2.9.0.post0)\n",
      "Requirement already satisfied: boto3 in c:\\users\\agugu\\appdata\\local\\programs\\python\\python311\\lib\\site-packages (from deeplake) (1.40.58)\n",
      "Requirement already satisfied: click in c:\\users\\agugu\\appdata\\local\\programs\\python\\python311\\lib\\site-packages (from deeplake) (8.3.0)\n",
      "Requirement already satisfied: six~=1.16.0 in c:\\users\\agugu\\appdata\\roaming\\python\\python311\\site-packages (from deeplake) (1.16.0)\n",
      "Requirement already satisfied: pathos in c:\\users\\agugu\\appdata\\local\\programs\\python\\python311\\lib\\site-packages (from deeplake) (0.3.4)\n",
      "Requirement already satisfied: humbug>=0.3.1 in c:\\users\\agugu\\appdata\\local\\programs\\python\\python311\\lib\\site-packages (from deeplake) (0.3.2)\n",
      "Requirement already satisfied: tqdm in c:\\users\\agugu\\appdata\\local\\programs\\python\\python311\\lib\\site-packages (from deeplake) (4.67.0)\n",
      "Requirement already satisfied: lz4 in c:\\users\\agugu\\appdata\\local\\programs\\python\\python311\\lib\\site-packages (from deeplake) (4.4.4)\n",
      "Requirement already satisfied: pyjwt in c:\\users\\agugu\\appdata\\local\\programs\\python\\python311\\lib\\site-packages (from deeplake) (2.10.1)\n",
      "Requirement already satisfied: pydantic in c:\\users\\agugu\\appdata\\local\\programs\\python\\python311\\lib\\site-packages (from deeplake) (2.12.3)\n",
      "Requirement already satisfied: opencv-python>=4.6.0 in c:\\users\\agugu\\appdata\\local\\programs\\python\\python311\\lib\\site-packages (from ultralytics) (4.11.0.86)\n",
      "Requirement already satisfied: pyyaml>=5.3.1 in c:\\users\\agugu\\appdata\\local\\programs\\python\\python311\\lib\\site-packages (from ultralytics) (6.0.3)\n",
      "Requirement already satisfied: requests>=2.23.0 in c:\\users\\agugu\\appdata\\local\\programs\\python\\python311\\lib\\site-packages (from ultralytics) (2.32.5)\n",
      "Requirement already satisfied: scipy>=1.4.1 in c:\\users\\agugu\\appdata\\local\\programs\\python\\python311\\lib\\site-packages (from ultralytics) (1.14.1)\n",
      "Requirement already satisfied: psutil in c:\\users\\agugu\\appdata\\roaming\\python\\python311\\site-packages (from ultralytics) (6.0.0)\n",
      "Requirement already satisfied: polars in c:\\users\\agugu\\appdata\\local\\programs\\python\\python311\\lib\\site-packages (from ultralytics) (1.34.0)\n",
      "Requirement already satisfied: ultralytics-thop>=2.0.0 in c:\\users\\agugu\\appdata\\local\\programs\\python\\python311\\lib\\site-packages (from ultralytics) (2.0.17)\n",
      "Requirement already satisfied: charset_normalizer<4,>=2 in c:\\users\\agugu\\appdata\\local\\programs\\python\\python311\\lib\\site-packages (from requests>=2.23.0->ultralytics) (3.4.4)\n",
      "Requirement already satisfied: idna<4,>=2.5 in c:\\users\\agugu\\appdata\\local\\programs\\python\\python311\\lib\\site-packages (from requests>=2.23.0->ultralytics) (3.11)\n",
      "Requirement already satisfied: urllib3<3,>=1.21.1 in c:\\users\\agugu\\appdata\\local\\programs\\python\\python311\\lib\\site-packages (from requests>=2.23.0->ultralytics) (2.5.0)\n",
      "Requirement already satisfied: certifi>=2017.4.17 in c:\\users\\agugu\\appdata\\local\\programs\\python\\python311\\lib\\site-packages (from requests>=2.23.0->ultralytics) (2025.10.5)\n",
      "Requirement already satisfied: mpmath<1.4,>=1.1.0 in c:\\users\\agugu\\appdata\\local\\programs\\python\\python311\\lib\\site-packages (from sympy>=1.13.3->torch) (1.3.0)\n",
      "Requirement already satisfied: botocore<1.41.0,>=1.40.58 in c:\\users\\agugu\\appdata\\local\\programs\\python\\python311\\lib\\site-packages (from boto3->deeplake) (1.40.58)\n",
      "Requirement already satisfied: jmespath<2.0.0,>=0.7.1 in c:\\users\\agugu\\appdata\\local\\programs\\python\\python311\\lib\\site-packages (from boto3->deeplake) (1.0.1)\n",
      "Requirement already satisfied: s3transfer<0.15.0,>=0.14.0 in c:\\users\\agugu\\appdata\\local\\programs\\python\\python311\\lib\\site-packages (from boto3->deeplake) (0.14.0)\n",
      "Requirement already satisfied: colorama in c:\\users\\agugu\\appdata\\roaming\\python\\python311\\site-packages (from click->deeplake) (0.4.6)\n",
      "Requirement already satisfied: MarkupSafe>=2.0 in c:\\users\\agugu\\appdata\\local\\programs\\python\\python311\\lib\\site-packages (from jinja2->torch) (3.0.2)\n",
      "Requirement already satisfied: ppft>=1.7.7 in c:\\users\\agugu\\appdata\\local\\programs\\python\\python311\\lib\\site-packages (from pathos->deeplake) (1.7.7)\n",
      "Requirement already satisfied: dill>=0.4.0 in c:\\users\\agugu\\appdata\\local\\programs\\python\\python311\\lib\\site-packages (from pathos->deeplake) (0.4.0)\n",
      "Requirement already satisfied: pox>=0.3.6 in c:\\users\\agugu\\appdata\\local\\programs\\python\\python311\\lib\\site-packages (from pathos->deeplake) (0.3.6)\n",
      "Requirement already satisfied: multiprocess>=0.70.18 in c:\\users\\agugu\\appdata\\local\\programs\\python\\python311\\lib\\site-packages (from pathos->deeplake) (0.70.18)\n",
      "Requirement already satisfied: polars-runtime-32==1.34.0 in c:\\users\\agugu\\appdata\\local\\programs\\python\\python311\\lib\\site-packages (from polars->ultralytics) (1.34.0)\n",
      "Requirement already satisfied: annotated-types>=0.6.0 in c:\\users\\agugu\\appdata\\local\\programs\\python\\python311\\lib\\site-packages (from pydantic->deeplake) (0.7.0)\n",
      "Requirement already satisfied: pydantic-core==2.41.4 in c:\\users\\agugu\\appdata\\local\\programs\\python\\python311\\lib\\site-packages (from pydantic->deeplake) (2.41.4)\n",
      "Requirement already satisfied: typing-inspection>=0.4.2 in c:\\users\\agugu\\appdata\\local\\programs\\python\\python311\\lib\\site-packages (from pydantic->deeplake) (0.4.2)\n"
     ]
    },
    {
     "name": "stderr",
     "output_type": "stream",
     "text": [
      "\n",
      "[notice] A new release of pip is available: 24.3.1 -> 25.2\n",
      "[notice] To update, run: python.exe -m pip install --upgrade pip\n"
     ]
    }
   ],
   "source": [
    "!pip install torch torchvision matplotlib pillow deeplake ultralytics"
   ]
  },
  {
   "cell_type": "code",
   "execution_count": 2,
   "id": "90521c9e",
   "metadata": {},
   "outputs": [
    {
     "name": "stdout",
     "output_type": "stream",
     "text": [
      "\u001b[KDownloading https://github.com/ultralytics/assets/releases/download/v8.3.0/yolov8n-pose.pt to 'yolov8n-pose.pt': 100% ━━━━━━━━━━━━ 6.5MB 2.3MB/s 2.9s2.9s<0.0s.8s7s\n"
     ]
    }
   ],
   "source": [
    "from ultralytics import YOLO\n",
    "import matplotlib.pyplot as plt\n",
    "import cv2\n",
    "\n",
    "# 学習済みPoseモデルをロード\n",
    "model = YOLO(\"yolov8n-pose.pt\")  # YOLOv8のPoseモデル（軽量版）"
   ]
  },
  {
   "cell_type": "code",
   "execution_count": 1,
   "id": "a4faac2f",
   "metadata": {},
   "outputs": [
    {
     "ename": "NameError",
     "evalue": "name 'cv2' is not defined",
     "output_type": "error",
     "traceback": [
      "\u001b[1;31m---------------------------------------------------------------------------\u001b[0m",
      "\u001b[1;31mNameError\u001b[0m                                 Traceback (most recent call last)",
      "Cell \u001b[1;32mIn[1], line 3\u001b[0m\n\u001b[0;32m      1\u001b[0m \u001b[38;5;66;03m# 画像を読み込む\u001b[39;00m\n\u001b[0;32m      2\u001b[0m img_path \u001b[38;5;241m=\u001b[39m \u001b[38;5;124m\"\u001b[39m\u001b[38;5;124m2011tokyo_mister_fp-011-320x480.jpg\u001b[39m\u001b[38;5;124m\"\u001b[39m\n\u001b[1;32m----> 3\u001b[0m img \u001b[38;5;241m=\u001b[39m \u001b[43mcv2\u001b[49m\u001b[38;5;241m.\u001b[39mimread(img_path)\n\u001b[0;32m      4\u001b[0m img \u001b[38;5;241m=\u001b[39m cv2\u001b[38;5;241m.\u001b[39mcvtColor(img, cv2\u001b[38;5;241m.\u001b[39mCOLOR_BGR2RGB)\n\u001b[0;32m      6\u001b[0m cv2\u001b[38;5;241m.\u001b[39mimshow(\u001b[38;5;124m\"\u001b[39m\u001b[38;5;124mInput Image\u001b[39m\u001b[38;5;124m\"\u001b[39m, img)\n",
      "\u001b[1;31mNameError\u001b[0m: name 'cv2' is not defined"
     ]
    }
   ],
   "source": [
    "# 画像を読み込む\n",
    "img_path = \"2011tokyo_mister_fp-011-320x480.jpg\"\n",
    "img = cv2.imread(img_path)\n",
    "img = cv2.cvtColor(img, cv2.COLOR_BGR2RGB)\n",
    "\n",
    "cv2.imshow(\"Input Image\", img)\n",
    "cv2.waitKey(0)\n"
   ]
  },
  {
   "cell_type": "code",
   "execution_count": null,
   "id": "667f7c08",
   "metadata": {},
   "outputs": [],
   "source": []
  }
 ],
 "metadata": {
  "kernelspec": {
   "display_name": "Python 3",
   "language": "python",
   "name": "python3"
  },
  "language_info": {
   "codemirror_mode": {
    "name": "ipython",
    "version": 3
   },
   "file_extension": ".py",
   "mimetype": "text/x-python",
   "name": "python",
   "nbconvert_exporter": "python",
   "pygments_lexer": "ipython3",
   "version": "3.11.5"
  }
 },
 "nbformat": 4,
 "nbformat_minor": 5
}
